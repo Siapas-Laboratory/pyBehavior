{
 "cells": [
  {
   "cell_type": "code",
   "execution_count": 37,
   "id": "81ea2fcc-ed8e-4f3c-a47e-6f94f96130af",
   "metadata": {},
   "outputs": [],
   "source": [
    "from analysis_ultils import *\n",
    "from datetime import datetime\n",
    "from IPython.display import clear_output\n",
    "import time"
   ]
  },
  {
   "cell_type": "code",
   "execution_count": 40,
   "id": "c62368bb-142f-42e8-bc0c-91f7603d7e92",
   "metadata": {},
   "outputs": [
    {
     "name": "stdout",
     "output_type": "stream",
     "text": [
      "# of laps: 26\n",
      "time since last arm entry: 1418.988 s\n",
      "time since start (min): 39.322 mins\n"
     ]
    },
    {
     "data": {
      "text/html": [
       "<div>\n",
       "<style scoped>\n",
       "    .dataframe tbody tr th:only-of-type {\n",
       "        vertical-align: middle;\n",
       "    }\n",
       "\n",
       "    .dataframe tbody tr th {\n",
       "        vertical-align: top;\n",
       "    }\n",
       "\n",
       "    .dataframe thead th {\n",
       "        text-align: right;\n",
       "    }\n",
       "</style>\n",
       "<table border=\"1\" class=\"dataframe\">\n",
       "  <thead>\n",
       "    <tr style=\"text-align: right;\">\n",
       "      <th></th>\n",
       "      <th>timestamp</th>\n",
       "      <th>event</th>\n",
       "      <th>trial_time</th>\n",
       "    </tr>\n",
       "  </thead>\n",
       "  <tbody>\n",
       "    <tr>\n",
       "      <th>1879</th>\n",
       "      <td>2023-02-14 18:46:19.271777</td>\n",
       "      <td>arm a correct</td>\n",
       "      <td>54.290474</td>\n",
       "    </tr>\n",
       "    <tr>\n",
       "      <th>1913</th>\n",
       "      <td>2023-02-14 18:46:30.334973</td>\n",
       "      <td>arm b correct</td>\n",
       "      <td>11.063196</td>\n",
       "    </tr>\n",
       "    <tr>\n",
       "      <th>1947</th>\n",
       "      <td>2023-02-14 18:46:54.653429</td>\n",
       "      <td>arm a correct</td>\n",
       "      <td>24.318456</td>\n",
       "    </tr>\n",
       "    <tr>\n",
       "      <th>1977</th>\n",
       "      <td>2023-02-14 18:47:14.742901</td>\n",
       "      <td>arm b correct</td>\n",
       "      <td>20.089472</td>\n",
       "    </tr>\n",
       "    <tr>\n",
       "      <th>2009</th>\n",
       "      <td>2023-02-14 18:47:25.922332</td>\n",
       "      <td>arm a correct</td>\n",
       "      <td>11.179431</td>\n",
       "    </tr>\n",
       "    <tr>\n",
       "      <th>2040</th>\n",
       "      <td>2023-02-14 18:47:41.836265</td>\n",
       "      <td>arm b correct</td>\n",
       "      <td>15.913933</td>\n",
       "    </tr>\n",
       "    <tr>\n",
       "      <th>2076</th>\n",
       "      <td>2023-02-14 18:47:57.177944</td>\n",
       "      <td>arm a correct</td>\n",
       "      <td>15.341679</td>\n",
       "    </tr>\n",
       "    <tr>\n",
       "      <th>2107</th>\n",
       "      <td>2023-02-14 18:48:22.534912</td>\n",
       "      <td>arm b correct</td>\n",
       "      <td>25.356968</td>\n",
       "    </tr>\n",
       "    <tr>\n",
       "      <th>2145</th>\n",
       "      <td>2023-02-14 18:48:47.017219</td>\n",
       "      <td>arm a correct</td>\n",
       "      <td>24.482307</td>\n",
       "    </tr>\n",
       "    <tr>\n",
       "      <th>2215</th>\n",
       "      <td>2023-02-14 18:49:42.079889</td>\n",
       "      <td>arm b correct</td>\n",
       "      <td>55.062670</td>\n",
       "    </tr>\n",
       "  </tbody>\n",
       "</table>\n",
       "</div>"
      ],
      "text/plain": [
       "                      timestamp          event  trial_time\n",
       "1879 2023-02-14 18:46:19.271777  arm a correct   54.290474\n",
       "1913 2023-02-14 18:46:30.334973  arm b correct   11.063196\n",
       "1947 2023-02-14 18:46:54.653429  arm a correct   24.318456\n",
       "1977 2023-02-14 18:47:14.742901  arm b correct   20.089472\n",
       "2009 2023-02-14 18:47:25.922332  arm a correct   11.179431\n",
       "2040 2023-02-14 18:47:41.836265  arm b correct   15.913933\n",
       "2076 2023-02-14 18:47:57.177944  arm a correct   15.341679\n",
       "2107 2023-02-14 18:48:22.534912  arm b correct   25.356968\n",
       "2145 2023-02-14 18:48:47.017219  arm a correct   24.482307\n",
       "2215 2023-02-14 18:49:42.079889  arm b correct   55.062670"
      ]
     },
     "metadata": {},
     "output_type": "display_data"
    },
    {
     "ename": "KeyboardInterrupt",
     "evalue": "",
     "output_type": "error",
     "traceback": [
      "\u001b[1;31m---------------------------------------------------------------------------\u001b[0m",
      "\u001b[1;31mKeyboardInterrupt\u001b[0m                         Traceback (most recent call last)",
      "\u001b[1;32m~\\AppData\\Local\\Temp\\ipykernel_17572\\2717778810.py\u001b[0m in \u001b[0;36m<module>\u001b[1;34m\u001b[0m\n\u001b[0;32m      8\u001b[0m     \u001b[0mprint\u001b[0m\u001b[1;33m(\u001b[0m\u001b[1;34mf\"time since start (min): {(datetime.now() - arm_entries.iloc[0].timestamp).total_seconds()/60:.3f} mins\"\u001b[0m\u001b[1;33m)\u001b[0m\u001b[1;33m\u001b[0m\u001b[1;33m\u001b[0m\u001b[0m\n\u001b[0;32m      9\u001b[0m     \u001b[0mdisplay\u001b[0m\u001b[1;33m(\u001b[0m\u001b[0marm_entries\u001b[0m\u001b[1;33m.\u001b[0m\u001b[0mtail\u001b[0m\u001b[1;33m(\u001b[0m\u001b[1;36m10\u001b[0m\u001b[1;33m)\u001b[0m\u001b[1;33m)\u001b[0m\u001b[1;33m\u001b[0m\u001b[1;33m\u001b[0m\u001b[0m\n\u001b[1;32m---> 10\u001b[1;33m     \u001b[0mtime\u001b[0m\u001b[1;33m.\u001b[0m\u001b[0msleep\u001b[0m\u001b[1;33m(\u001b[0m\u001b[1;36m10\u001b[0m\u001b[1;33m)\u001b[0m\u001b[1;33m\u001b[0m\u001b[1;33m\u001b[0m\u001b[0m\n\u001b[0m",
      "\u001b[1;31mKeyboardInterrupt\u001b[0m: "
     ]
    }
   ],
   "source": [
    "while True:\n",
    "    clear_output(wait=True)\n",
    "    df = load_timestamps(r\"Z:\\rat_training\\tmaze-training\\02_14_2023_15_00_58\\linear_track_2023_02_14_18_32_52.csv\")\n",
    "    arm_entries = df.loc[df.event.str.contains(\"arm\")].copy()\n",
    "    arm_entries['trial_time'] = arm_entries.timestamp.diff().dt.total_seconds()\n",
    "    print(f\"# of laps: {len(arm_entries)//2}\")\n",
    "    print(f\"time since last arm entry: {(datetime.now() - arm_entries.iloc[-1].timestamp).total_seconds():.3f} s\")\n",
    "    print(f\"time since start (min): {(datetime.now() - arm_entries.iloc[0].timestamp).total_seconds()/60:.3f} mins\")\n",
    "    display(arm_entries.tail(10))\n",
    "    time.sleep(10)"
   ]
  },
  {
   "cell_type": "code",
   "execution_count": null,
   "id": "32e6153e-83dc-404a-813e-85b77b22703f",
   "metadata": {},
   "outputs": [],
   "source": []
  }
 ],
 "metadata": {
  "kernelspec": {
   "display_name": "Python 3 (ipykernel)",
   "language": "python",
   "name": "python3"
  },
  "language_info": {
   "codemirror_mode": {
    "name": "ipython",
    "version": 3
   },
   "file_extension": ".py",
   "mimetype": "text/x-python",
   "name": "python",
   "nbconvert_exporter": "python",
   "pygments_lexer": "ipython3",
   "version": "3.9.13"
  }
 },
 "nbformat": 4,
 "nbformat_minor": 5
}
