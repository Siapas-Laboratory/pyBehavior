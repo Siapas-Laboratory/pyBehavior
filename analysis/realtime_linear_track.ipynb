{
 "cells": [
  {
   "cell_type": "code",
   "execution_count": 1,
   "id": "81ea2fcc-ed8e-4f3c-a47e-6f94f96130af",
   "metadata": {},
   "outputs": [],
   "source": [
    "from analysis_ultils import *\n",
    "from datetime import datetime\n",
    "from IPython.display import clear_output\n",
    "import time"
   ]
  },
  {
   "cell_type": "code",
   "execution_count": 13,
   "id": "c62368bb-142f-42e8-bc0c-91f7603d7e92",
   "metadata": {},
   "outputs": [
    {
     "name": "stdout",
     "output_type": "stream",
     "text": [
      "# of laps: 55\n",
      "time since last arm entry: 194.604 s\n",
      "time since start (min): 44.926 mins\n"
     ]
    },
    {
     "data": {
      "text/html": [
       "<div>\n",
       "<style scoped>\n",
       "    .dataframe tbody tr th:only-of-type {\n",
       "        vertical-align: middle;\n",
       "    }\n",
       "\n",
       "    .dataframe tbody tr th {\n",
       "        vertical-align: top;\n",
       "    }\n",
       "\n",
       "    .dataframe thead th {\n",
       "        text-align: right;\n",
       "    }\n",
       "</style>\n",
       "<table border=\"1\" class=\"dataframe\">\n",
       "  <thead>\n",
       "    <tr style=\"text-align: right;\">\n",
       "      <th></th>\n",
       "      <th>timestamp</th>\n",
       "      <th>event</th>\n",
       "      <th>trial_time</th>\n",
       "    </tr>\n",
       "  </thead>\n",
       "  <tbody>\n",
       "    <tr>\n",
       "      <th>3605</th>\n",
       "      <td>2023-02-16 19:15:18.172907</td>\n",
       "      <td>arm b correct</td>\n",
       "      <td>10.803835</td>\n",
       "    </tr>\n",
       "    <tr>\n",
       "      <th>3635</th>\n",
       "      <td>2023-02-16 19:15:31.660148</td>\n",
       "      <td>arm a correct</td>\n",
       "      <td>13.487241</td>\n",
       "    </tr>\n",
       "    <tr>\n",
       "      <th>3672</th>\n",
       "      <td>2023-02-16 19:16:14.783621</td>\n",
       "      <td>arm b correct</td>\n",
       "      <td>43.123473</td>\n",
       "    </tr>\n",
       "    <tr>\n",
       "      <th>3707</th>\n",
       "      <td>2023-02-16 19:16:39.204767</td>\n",
       "      <td>arm a correct</td>\n",
       "      <td>24.421146</td>\n",
       "    </tr>\n",
       "    <tr>\n",
       "      <th>3740</th>\n",
       "      <td>2023-02-16 19:17:00.007753</td>\n",
       "      <td>arm b correct</td>\n",
       "      <td>20.802986</td>\n",
       "    </tr>\n",
       "    <tr>\n",
       "      <th>3774</th>\n",
       "      <td>2023-02-16 19:17:19.385082</td>\n",
       "      <td>arm a correct</td>\n",
       "      <td>19.377329</td>\n",
       "    </tr>\n",
       "    <tr>\n",
       "      <th>3808</th>\n",
       "      <td>2023-02-16 19:32:16.849668</td>\n",
       "      <td>arm b correct</td>\n",
       "      <td>897.464586</td>\n",
       "    </tr>\n",
       "    <tr>\n",
       "      <th>3886</th>\n",
       "      <td>2023-02-16 19:35:17.701720</td>\n",
       "      <td>arm a correct</td>\n",
       "      <td>180.852052</td>\n",
       "    </tr>\n",
       "    <tr>\n",
       "      <th>3925</th>\n",
       "      <td>2023-02-16 19:35:46.068870</td>\n",
       "      <td>arm b correct</td>\n",
       "      <td>28.367150</td>\n",
       "    </tr>\n",
       "    <tr>\n",
       "      <th>3962</th>\n",
       "      <td>2023-02-16 19:37:42.635104</td>\n",
       "      <td>arm a correct</td>\n",
       "      <td>116.566234</td>\n",
       "    </tr>\n",
       "  </tbody>\n",
       "</table>\n",
       "</div>"
      ],
      "text/plain": [
       "                      timestamp          event  trial_time\n",
       "3605 2023-02-16 19:15:18.172907  arm b correct   10.803835\n",
       "3635 2023-02-16 19:15:31.660148  arm a correct   13.487241\n",
       "3672 2023-02-16 19:16:14.783621  arm b correct   43.123473\n",
       "3707 2023-02-16 19:16:39.204767  arm a correct   24.421146\n",
       "3740 2023-02-16 19:17:00.007753  arm b correct   20.802986\n",
       "3774 2023-02-16 19:17:19.385082  arm a correct   19.377329\n",
       "3808 2023-02-16 19:32:16.849668  arm b correct  897.464586\n",
       "3886 2023-02-16 19:35:17.701720  arm a correct  180.852052\n",
       "3925 2023-02-16 19:35:46.068870  arm b correct   28.367150\n",
       "3962 2023-02-16 19:37:42.635104  arm a correct  116.566234"
      ]
     },
     "metadata": {},
     "output_type": "display_data"
    }
   ],
   "source": [
    "df = load_timestamps(r\"D:\\DATA\\temp-rat-training\\02_16_2023_14_36_15\\linear_track_2023_02_16_18_55_40.csv\")\n",
    "arm_entries = df.loc[df.event.str.contains(\"arm\")].copy()\n",
    "arm_entries['trial_time'] = arm_entries.timestamp.diff().dt.total_seconds()\n",
    "print(f\"# of laps: {len(arm_entries)//2}\")\n",
    "print(f\"time since last arm entry: {(datetime.now() - arm_entries.iloc[-1].timestamp).total_seconds():.3f} s\")\n",
    "print(f\"time since start (min): {(datetime.now() - arm_entries.iloc[0].timestamp).total_seconds()/60:.3f} mins\")\n",
    "display(arm_entries.tail(10))\n"
   ]
  },
  {
   "cell_type": "code",
   "execution_count": null,
   "id": "32e6153e-83dc-404a-813e-85b77b22703f",
   "metadata": {},
   "outputs": [],
   "source": []
  }
 ],
 "metadata": {
  "kernelspec": {
   "display_name": "Python 3 (ipykernel)",
   "language": "python",
   "name": "python3"
  },
  "language_info": {
   "codemirror_mode": {
    "name": "ipython",
    "version": 3
   },
   "file_extension": ".py",
   "mimetype": "text/x-python",
   "name": "python",
   "nbconvert_exporter": "python",
   "pygments_lexer": "ipython3",
   "version": "3.9.13"
  }
 },
 "nbformat": 4,
 "nbformat_minor": 5
}
